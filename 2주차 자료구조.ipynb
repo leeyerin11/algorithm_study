{
 "cells": [
  {
   "cell_type": "markdown",
   "id": "e0743ea5",
   "metadata": {},
   "source": [
    "#1. 스택"
   ]
  },
  {
   "cell_type": "code",
   "execution_count": 26,
   "id": "c2c01325",
   "metadata": {},
   "outputs": [
    {
     "name": "stdout",
     "output_type": "stream",
     "text": [
      "14\n"
     ]
    }
   ],
   "source": [
    "import sys  #input으로 입력받으면 시간 초과\n",
    "stack=[]\n",
    "def push(add):\n",
    "    stack.append(add)\n",
    "            \n",
    "def pop():\n",
    "    if (len(stack)==0):\n",
    "        return -1\n",
    "    else:\n",
    "        return stack[len(stack)-1]\n",
    "        del stack[len(stack)-1]\n",
    "    \n",
    "def size():\n",
    "    return len(stack)\n",
    "    \n",
    "def empty():\n",
    "    if (len(stack)==0):\n",
    "        return 1\n",
    "    else:\n",
    "        return 0\n",
    "    \n",
    "def top():\n",
    "    if (len(stack)==0):\n",
    "        return -1\n",
    "    else:\n",
    "        return stack[len(stack)-1]\n",
    "    \n",
    "    \n",
    "N=int(input())\n",
    "for i in range(0,N):\n",
    "    signal=sys.stdin.readline().split()  ##계속 오류.....\n",
    "    if (signal=='push'):\n",
    "        push(int(signal[1]))\n",
    "    elif (signal=='pop'):\n",
    "        pop()\n",
    "    elif (signal=='size'):\n",
    "        size()\n",
    "    elif (signal=='empty'):\n",
    "        empty()\n",
    "    else:\n",
    "        top()\n"
   ]
  },
  {
   "cell_type": "markdown",
   "id": "726171bf",
   "metadata": {},
   "source": [
    "#2. 단어 뒤집기"
   ]
  },
  {
   "cell_type": "code",
   "execution_count": 41,
   "id": "916bd760",
   "metadata": {},
   "outputs": [
    {
     "name": "stdout",
     "output_type": "stream",
     "text": [
      "2\n",
      "i am happy today\n",
      "i ma yppah yadot we want to win the first prize\n",
      "ew tnaw ot niw eht tsrif ezirp "
     ]
    }
   ],
   "source": [
    "N=int(input())\n",
    "for i in range(N):\n",
    "    string=input().split()\n",
    "    string=list(string)\n",
    "    for j in range(len(string)):\n",
    "        print(string[j][::-1],end=\" \")"
   ]
  },
  {
   "cell_type": "markdown",
   "id": "f54654ad",
   "metadata": {},
   "source": [
    "#3. 괄호"
   ]
  },
  {
   "cell_type": "code",
   "execution_count": 18,
   "id": "d91db9fd",
   "metadata": {},
   "outputs": [
    {
     "name": "stdout",
     "output_type": "stream",
     "text": [
      "2\n",
      ")\n",
      "NO\n",
      "(\n",
      "YES\n"
     ]
    }
   ],
   "source": [
    "N=int(input())\n",
    "for i in range(N):\n",
    "    vps=input()\n",
    "    left_cnt=0\n",
    "    right_cnt=0\n",
    "    for j in vps:\n",
    "        if (j=='('):\n",
    "            left_cnt+=1\n",
    "        elif(j==')'):\n",
    "            right_cnt+=1\n",
    "            \n",
    "        if (left_cnt<right_cnt):\n",
    "            break\n",
    "    \n",
    "    if (left_cnt==right_cnt):\n",
    "        print(\"YES\")\n",
    "    else:\n",
    "        print(\"NO\")"
   ]
  },
  {
   "cell_type": "markdown",
   "id": "cce9db54",
   "metadata": {},
   "source": [
    "#4. 스택 수열"
   ]
  },
  {
   "cell_type": "code",
   "execution_count": null,
   "id": "d024097a",
   "metadata": {},
   "outputs": [],
   "source": [
    "list=[]    #사용자가 입력한 배열\n",
    "n=int(input())\n",
    "for i in range(n):\n",
    "    k=int(input())\n",
    "    list[i].append(i)\n",
    "    \n",
    "stack=[]   #1~n 담을 스택\n",
    "list_2=[]  #pop한 숫자 넣을 스택\n",
    "while (len(list_2)==n):\n",
    "    if ()"
   ]
  },
  {
   "cell_type": "markdown",
   "id": "91d04fe4",
   "metadata": {},
   "source": [
    "#5. 에디터"
   ]
  },
  {
   "cell_type": "markdown",
   "id": "708aacb3",
   "metadata": {},
   "source": [
    "list=[]\n",
    "list=input()\n",
    "n=int(input())\n",
    "cursor=len(list)\n",
    "for i in range(n):\n",
    "    signal=input().split()    #input()으로 하면 오류는 안나지만 시간초과 뜸\n",
    "    if (signal[0]=='L'):\n",
    "        if (cursor==0):\n",
    "            cursor=0\n",
    "        else:\n",
    "            cursor-=1\n",
    "    elif (signal[0]=='D'):\n",
    "        if (cursor==len(list)):\n",
    "            cursor==len(list)\n",
    "        else:\n",
    "            cursor+=1\n",
    "    elif (signal[0]=='B'):\n",
    "        if (cursor==0):\n",
    "            cursor==0\n",
    "        elif (cursor==1):\n",
    "            list=list[1:]\n",
    "            cursor-=1\n",
    "        else:\n",
    "            list=list[:cursor-1]+list[cursor:]\n",
    "            cursor-=1\n",
    "    elif (signal[0]=='P'):\n",
    "        list=list[:cursor]+signal[1]+list[cursor:]\n",
    "        cursor+=1\n",
    "\n",
    "        \n",
    "print(list)"
   ]
  },
  {
   "cell_type": "markdown",
   "id": "83353bc7",
   "metadata": {},
   "source": [
    "#6. 큐"
   ]
  },
  {
   "cell_type": "code",
   "execution_count": 23,
   "id": "94563ba2",
   "metadata": {},
   "outputs": [
    {
     "ename": "ValueError",
     "evalue": "invalid literal for int() with base 10: ''",
     "output_type": "error",
     "traceback": [
      "\u001b[1;31m---------------------------------------------------------------------------\u001b[0m",
      "\u001b[1;31mValueError\u001b[0m                                Traceback (most recent call last)",
      "\u001b[1;32m~\\AppData\\Local\\Temp/ipykernel_23336/2735403495.py\u001b[0m in \u001b[0;36m<module>\u001b[1;34m\u001b[0m\n\u001b[0;32m      1\u001b[0m \u001b[1;32mimport\u001b[0m \u001b[0msys\u001b[0m\u001b[1;33m\u001b[0m\u001b[1;33m\u001b[0m\u001b[0m\n\u001b[0;32m      2\u001b[0m \u001b[1;33m\u001b[0m\u001b[0m\n\u001b[1;32m----> 3\u001b[1;33m \u001b[0mN\u001b[0m \u001b[1;33m=\u001b[0m \u001b[0mint\u001b[0m\u001b[1;33m(\u001b[0m\u001b[0msys\u001b[0m\u001b[1;33m.\u001b[0m\u001b[0mstdin\u001b[0m\u001b[1;33m.\u001b[0m\u001b[0mreadline\u001b[0m\u001b[1;33m(\u001b[0m\u001b[1;33m)\u001b[0m\u001b[1;33m)\u001b[0m\u001b[1;33m\u001b[0m\u001b[1;33m\u001b[0m\u001b[0m\n\u001b[0m\u001b[0;32m      4\u001b[0m \u001b[1;33m\u001b[0m\u001b[0m\n\u001b[0;32m      5\u001b[0m \u001b[0mqueue\u001b[0m \u001b[1;33m=\u001b[0m \u001b[1;33m[\u001b[0m\u001b[1;33m]\u001b[0m\u001b[1;33m\u001b[0m\u001b[1;33m\u001b[0m\u001b[0m\n",
      "\u001b[1;31mValueError\u001b[0m: invalid literal for int() with base 10: ''"
     ]
    }
   ],
   "source": [
    "import sys\n",
    "\n",
    "N = int(sys.stdin.readline())\n",
    "\n",
    "queue = []\n",
    "\n",
    "for i in range(N):\n",
    "    cmd = sys.stdin.readline().split()\n",
    "\n",
    "    if cmd[0] == \"push\":\n",
    "        queue.insert(0, cmd[1])\n",
    "        \n",
    "    elif cmd[0] == \"pop\":\n",
    "        if len(queue) != 0: print(queue.pop())\n",
    "        else: print(-1)\n",
    "\n",
    "    elif cmd[0] == \"size\":\n",
    "        print(len(queue))\n",
    "\n",
    "    elif cmd[0] == \"empty\":\n",
    "        if len(queue) == 0: print(1)\n",
    "        else : print(0)\n",
    "\n",
    "    elif cmd[0] == \"front\":\n",
    "        if len(queue) == 0: print(-1)\n",
    "        else: print(queue[len(queue) -1])\n",
    "\n",
    "    elif cmd[0] == \"back\":\n",
    "        if len(queue) == 0: print(-1)\n",
    "        else: print(queue[0])"
   ]
  }
 ],
 "metadata": {
  "kernelspec": {
   "display_name": "Python 3 (ipykernel)",
   "language": "python",
   "name": "python3"
  },
  "language_info": {
   "codemirror_mode": {
    "name": "ipython",
    "version": 3
   },
   "file_extension": ".py",
   "mimetype": "text/x-python",
   "name": "python",
   "nbconvert_exporter": "python",
   "pygments_lexer": "ipython3",
   "version": "3.9.7"
  }
 },
 "nbformat": 4,
 "nbformat_minor": 5
}
