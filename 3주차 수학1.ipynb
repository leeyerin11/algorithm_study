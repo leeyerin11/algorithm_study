{
 "cells": [
  {
   "cell_type": "markdown",
   "id": "e31634f4",
   "metadata": {},
   "source": [
    "#1. 최소공배수"
   ]
  },
  {
   "cell_type": "code",
   "execution_count": 23,
   "id": "f5383f8d",
   "metadata": {},
   "outputs": [
    {
     "name": "stdout",
     "output_type": "stream",
     "text": [
      "3\n",
      "1 45000\n",
      "45000\n",
      "7 13\n",
      "91\n",
      "6 10\n",
      "30\n"
     ]
    }
   ],
   "source": [
    "from sys import stdin\n",
    "\n",
    "T=int(input())\n",
    "for i in range(T):\n",
    "    #A,B = list(map(int, stdin.readline().split()))\n",
    "    A,B=input().split()\n",
    "    A=int(A)\n",
    "    B=int(B)\n",
    "    a=[0]\n",
    "    b=[-1]\n",
    "    j=1\n",
    "    if (A%B==0):\n",
    "        AB=[A]\n",
    "    elif (B%A==0):\n",
    "        AB=[B]\n",
    "    else:\n",
    "        while((a[-1]<A*B)|(b[-1]<A*B)):\n",
    "            a.append(A*j)\n",
    "            b.append(B*j)\n",
    "            j+=1\n",
    "        AB=[i for i in a if i in b]\n",
    "    print(AB[0])\n",
    "    \n",
    "##시간초과"
   ]
  },
  {
   "cell_type": "markdown",
   "id": "c9f3f97e",
   "metadata": {},
   "source": [
    "##### 유클리드 호제법\n",
    "- 최소공배수=A*B/최대공약수\n",
    "- 유클리드 호제법이란, 두 정수 a, b에 대해, a를 b로 나눈 나머지인 r을 이용해,최종적인 나머지가 0이 될때까지 위의 과정을 반복하는 것"
   ]
  },
  {
   "cell_type": "code",
   "execution_count": 30,
   "id": "f3b0fe77",
   "metadata": {},
   "outputs": [
    {
     "name": "stdout",
     "output_type": "stream",
     "text": [
      "3\n",
      "1 45000\n",
      "45000\n",
      "6 10\n",
      "30\n",
      "13 17\n",
      "221\n"
     ]
    }
   ],
   "source": [
    "T=int(input())\n",
    "for i in range(T):\n",
    "    A,B=input().split()\n",
    "    A=int(A)\n",
    "    a=A\n",
    "    B=int(B)\n",
    "    b=B\n",
    "    if(B>A):\n",
    "        tmp=A\n",
    "        A=B\n",
    "        B=tmp\n",
    "    r=1\n",
    "    while(r!=0):\n",
    "        r=A%B\n",
    "        A=B\n",
    "        if(r==0):\n",
    "            break\n",
    "        B=r\n",
    "    print(a*b//B)"
   ]
  },
  {
   "cell_type": "markdown",
   "id": "5dec70ab",
   "metadata": {},
   "source": [
    "#2. 소수 구하기"
   ]
  }
 ],
 "metadata": {
  "kernelspec": {
   "display_name": "Python 3 (ipykernel)",
   "language": "python",
   "name": "python3"
  },
  "language_info": {
   "codemirror_mode": {
    "name": "ipython",
    "version": 3
   },
   "file_extension": ".py",
   "mimetype": "text/x-python",
   "name": "python",
   "nbconvert_exporter": "python",
   "pygments_lexer": "ipython3",
   "version": "3.9.7"
  }
 },
 "nbformat": 4,
 "nbformat_minor": 5
}
