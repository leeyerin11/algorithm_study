{
 "cells": [
  {
   "cell_type": "markdown",
   "id": "e31634f4",
   "metadata": {},
   "source": [
    "#1. 최소공배수"
   ]
  },
  {
   "cell_type": "code",
   "execution_count": 23,
   "id": "f5383f8d",
   "metadata": {},
   "outputs": [
    {
     "name": "stdout",
     "output_type": "stream",
     "text": [
      "3\n",
      "1 45000\n",
      "45000\n",
      "7 13\n",
      "91\n",
      "6 10\n",
      "30\n"
     ]
    }
   ],
   "source": [
    "from sys import stdin\n",
    "\n",
    "T=int(input())\n",
    "for i in range(T):\n",
    "    #A,B = list(map(int, stdin.readline().split()))\n",
    "    A,B=input().split()\n",
    "    A=int(A)\n",
    "    B=int(B)\n",
    "    a=[0]\n",
    "    b=[-1]\n",
    "    j=1\n",
    "    if (A%B==0):\n",
    "        AB=[A]\n",
    "    elif (B%A==0):\n",
    "        AB=[B]\n",
    "    else:\n",
    "        while((a[-1]<A*B)|(b[-1]<A*B)):\n",
    "            a.append(A*j)\n",
    "            b.append(B*j)\n",
    "            j+=1\n",
    "        AB=[i for i in a if i in b]\n",
    "    print(AB[0])\n",
    "    \n",
    "##시간초과"
   ]
  },
  {
   "cell_type": "markdown",
   "id": "c9f3f97e",
   "metadata": {},
   "source": [
    "##### 유클리드 호제법\n",
    "- 최소공배수=A*B/최대공약수\n",
    "- 유클리드 호제법이란, 두 정수 a, b에 대해, a를 b로 나눈 나머지인 r을 이용해,최종적인 나머지가 0이 될때까지 위의 과정을 반복하는 것"
   ]
  },
  {
   "cell_type": "code",
   "execution_count": 30,
   "id": "f3b0fe77",
   "metadata": {},
   "outputs": [
    {
     "name": "stdout",
     "output_type": "stream",
     "text": [
      "3\n",
      "1 45000\n",
      "45000\n",
      "6 10\n",
      "30\n",
      "13 17\n",
      "221\n"
     ]
    }
   ],
   "source": [
    "T=int(input())\n",
    "for i in range(T):\n",
    "    A,B=input().split()\n",
    "    A=int(A)\n",
    "    a=A\n",
    "    B=int(B)\n",
    "    b=B\n",
    "    if(B>A):\n",
    "        tmp=A\n",
    "        A=B\n",
    "        B=tmp\n",
    "    r=1\n",
    "    while(r!=0):\n",
    "        r=A%B\n",
    "        A=B\n",
    "        if(r==0):\n",
    "            break\n",
    "        B=r\n",
    "    print(a*b//B)"
   ]
  },
  {
   "cell_type": "markdown",
   "id": "5dec70ab",
   "metadata": {},
   "source": [
    "#2. 소수 구하기"
   ]
  },
  {
   "cell_type": "code",
   "execution_count": 31,
   "id": "f7e40e23",
   "metadata": {},
   "outputs": [
    {
     "name": "stdout",
     "output_type": "stream",
     "text": [
      "3 16\n",
      "3\n",
      "5\n",
      "7\n",
      "11\n",
      "13\n"
     ]
    }
   ],
   "source": [
    "a,b=input().split()\n",
    "a=int(a)\n",
    "b=int(b)\n",
    "li1=range(a,b+1)  #전체 숫자 리스트\n",
    "li2=[]  #방문한 리스트\n",
    "li3=[]  #소수 리스트\n",
    "for i in range(2,li1[-1]):\n",
    "    if (i==0)&(li1[0]==1):\n",
    "        li2.append(1)\n",
    "    else:\n",
    "        j=2\n",
    "        while(True):\n",
    "            li2.append(i*j)\n",
    "            j+=1           \n",
    "            if (li2[-1]>= li1[-1]):\n",
    "                break\n",
    "        if (i not in li2):\n",
    "            if(i in li1):\n",
    "                li3.append(i)\n",
    "                \n",
    "            \n",
    "for k in range(len(li3)):\n",
    "    print(li3[k])\n",
    "    \n",
    "##시간초과"
   ]
  },
  {
   "cell_type": "code",
   "execution_count": 3,
   "id": "73fca93a",
   "metadata": {},
   "outputs": [
    {
     "name": "stdout",
     "output_type": "stream",
     "text": [
      "3 16\n",
      "3\n",
      "5\n",
      "7\n",
      "11\n",
      "13\n"
     ]
    }
   ],
   "source": [
    "m,n=map(int,input().split())\n",
    "\n",
    "for i in range(m,n+1):\n",
    "    if i==1:\n",
    "        continue\n",
    "    for j in range(2,int(i**0.5)+1):\n",
    "        if i%j==0:\n",
    "            break\n",
    "    else:\n",
    "        print(i)"
   ]
  },
  {
   "cell_type": "markdown",
   "id": "f350d97a",
   "metadata": {},
   "source": [
    "#3. 골드바흐의 추측"
   ]
  },
  {
   "cell_type": "code",
   "execution_count": 28,
   "id": "9cd7cf53",
   "metadata": {},
   "outputs": [
    {
     "name": "stdout",
     "output_type": "stream",
     "text": [
      "10000\n",
      "10000 = 59 + 9941\n"
     ]
    }
   ],
   "source": [
    "#소수 리스트\n",
    "li=[]\n",
    "a=int(input())\n",
    "\n",
    "for i in range(1,a):\n",
    "    if i==1:\n",
    "        continue\n",
    "    for j in range(2,int(i**0.5)+1):\n",
    "        if i%j==0:\n",
    "            break\n",
    "    else:\n",
    "        li.append(i)\n",
    "\n",
    "re=len(li)\n",
    "for j in range(0,re):\n",
    "    num1=li[0]\n",
    "    num2=0   #초기값\n",
    "    li.remove(num1)\n",
    "    for k in li:\n",
    "        if((a-num1) not in li):\n",
    "            break\n",
    "        elif (k==a-num1):\n",
    "            num2=k\n",
    "            break\n",
    "    if (num2!=0):\n",
    "        break\n",
    "            \n",
    "            \n",
    "if(num2==0):\n",
    "         print(\"Goldbach's conjecture is wrong.\\n\")\n",
    "else:\n",
    "          print(a,\"=\",num1,\"+\",num2)"
   ]
  },
  {
   "cell_type": "code",
   "execution_count": 30,
   "id": "6117a846",
   "metadata": {},
   "outputs": [
    {
     "name": "stdout",
     "output_type": "stream",
     "text": [
      "8 \n",
      "8 = 3 + 5\n",
      "20\n",
      "20 = 3 + 17\n",
      "0\n"
     ]
    }
   ],
   "source": [
    "while(True):\n",
    "    li=[]\n",
    "    a=int(input())\n",
    "    if (a==0):\n",
    "        break\n",
    "    \n",
    "    for i in range(1,a):\n",
    "        if i==1:\n",
    "            continue\n",
    "        for j in range(2,int(i**0.5)+1):\n",
    "            if i%j==0:\n",
    "                break\n",
    "        else:\n",
    "            li.append(i)\n",
    "    \n",
    "    re=len(li)\n",
    "    for j in range(0,re):\n",
    "        num1=li[0]\n",
    "        num2=0   #초기값\n",
    "        li.remove(num1)\n",
    "        for k in li:\n",
    "            if((a-num1) not in li):\n",
    "                break\n",
    "            elif (k==a-num1):\n",
    "                num2=k\n",
    "                break\n",
    "        if (num2!=0):\n",
    "            break\n",
    "            \n",
    "            \n",
    "    if(num2==0):\n",
    "             print(\"Goldbach's conjecture is wrong.\\n\")\n",
    "    else:\n",
    "            print(a,\"=\",num1,\"+\",num2)"
   ]
  }
 ],
 "metadata": {
  "kernelspec": {
   "display_name": "Python 3 (ipykernel)",
   "language": "python",
   "name": "python3"
  },
  "language_info": {
   "codemirror_mode": {
    "name": "ipython",
    "version": 3
   },
   "file_extension": ".py",
   "mimetype": "text/x-python",
   "name": "python",
   "nbconvert_exporter": "python",
   "pygments_lexer": "ipython3",
   "version": "3.9.7"
  }
 },
 "nbformat": 4,
 "nbformat_minor": 5
}
