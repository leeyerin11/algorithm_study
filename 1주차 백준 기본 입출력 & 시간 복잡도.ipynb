{
 "cells": [
  {
   "cell_type": "markdown",
   "id": "b8db19a4",
   "metadata": {},
   "source": [
    "## 기본 입출력"
   ]
  },
  {
   "cell_type": "markdown",
   "id": "524510ed",
   "metadata": {},
   "source": [
    "#1. Hello World"
   ]
  },
  {
   "cell_type": "code",
   "execution_count": 2,
   "id": "2fc40346",
   "metadata": {},
   "outputs": [
    {
     "name": "stdout",
     "output_type": "stream",
     "text": [
      "Hello World!\n"
     ]
    }
   ],
   "source": [
    "print(\"Hello World!\")"
   ]
  },
  {
   "cell_type": "markdown",
   "id": "187bf43f",
   "metadata": {},
   "source": [
    "#2. A+B"
   ]
  },
  {
   "cell_type": "code",
   "execution_count": 10,
   "id": "e0f3b1f9",
   "metadata": {},
   "outputs": [
    {
     "name": "stdout",
     "output_type": "stream",
     "text": [
      "1 2\n",
      "3\n"
     ]
    }
   ],
   "source": [
    "A,B=input().split()     #공백을 사이에 두고 입력할 때는 뒤에 .split 붙이기\n",
    "print(int(A)+int(B))"
   ]
  },
  {
   "cell_type": "markdown",
   "id": "4cfac5df",
   "metadata": {},
   "source": [
    "#3. A-B"
   ]
  },
  {
   "cell_type": "code",
   "execution_count": 12,
   "id": "c0f220d0",
   "metadata": {},
   "outputs": [
    {
     "name": "stdout",
     "output_type": "stream",
     "text": [
      "3 2\n",
      "1\n"
     ]
    }
   ],
   "source": [
    "A,B=input().split()\n",
    "print(int(A)-int(B))"
   ]
  },
  {
   "cell_type": "markdown",
   "id": "0d2536a7",
   "metadata": {},
   "source": [
    "#4. A*B"
   ]
  },
  {
   "cell_type": "code",
   "execution_count": 13,
   "id": "17309e40",
   "metadata": {},
   "outputs": [
    {
     "name": "stdout",
     "output_type": "stream",
     "text": [
      "1 2\n",
      "2\n"
     ]
    }
   ],
   "source": [
    "A,B=input().split()\n",
    "print(int(A)*int(B))"
   ]
  },
  {
   "cell_type": "markdown",
   "id": "e5eea34c",
   "metadata": {},
   "source": [
    " #5. A/B"
   ]
  },
  {
   "cell_type": "code",
   "execution_count": 14,
   "id": "3cdf9968",
   "metadata": {},
   "outputs": [
    {
     "name": "stdout",
     "output_type": "stream",
     "text": [
      "1 3\n",
      "0.3333333333333333\n"
     ]
    }
   ],
   "source": [
    "A,B=input().split()\n",
    "print(int(A)/int(B))"
   ]
  },
  {
   "cell_type": "markdown",
   "id": "d3f0b713",
   "metadata": {},
   "source": [
    "#6. 사칙연산"
   ]
  },
  {
   "cell_type": "code",
   "execution_count": 16,
   "id": "7ad6192a",
   "metadata": {},
   "outputs": [
    {
     "name": "stdout",
     "output_type": "stream",
     "text": [
      "7 3\n",
      "10\n",
      "4\n",
      "21\n",
      "2\n",
      "1\n"
     ]
    }
   ],
   "source": [
    "A,B=input().split()\n",
    "print(int(A)+int(B))\n",
    "print(int(A)-int(B))\n",
    "print(int(A)*int(B))\n",
    "print(int(A)//int(B))   #몫\n",
    "print(int(A)%int(B))    #나머지"
   ]
  },
  {
   "cell_type": "markdown",
   "id": "03247980",
   "metadata": {},
   "source": [
    "#7. ??!"
   ]
  },
  {
   "cell_type": "code",
   "execution_count": 18,
   "id": "c73169ac",
   "metadata": {},
   "outputs": [
    {
     "name": "stdout",
     "output_type": "stream",
     "text": [
      "joonas\n",
      "joonas??!\n"
     ]
    }
   ],
   "source": [
    "id=input()\n",
    "print(id+\"??!\")    #+로 연결하면 중간 공백 없음"
   ]
  },
  {
   "cell_type": "markdown",
   "id": "930bf6b6",
   "metadata": {},
   "source": [
    "#8 1998년생인 내가 태국에서는 2541년생?!"
   ]
  },
  {
   "cell_type": "code",
   "execution_count": 19,
   "id": "cb23c77b",
   "metadata": {},
   "outputs": [
    {
     "name": "stdout",
     "output_type": "stream",
     "text": [
      "2541\n",
      "1998\n"
     ]
    }
   ],
   "source": [
    "y=int(input())\n",
    "print(y-543)"
   ]
  },
  {
   "cell_type": "markdown",
   "id": "fcda20b8",
   "metadata": {},
   "source": [
    "#9 나머지"
   ]
  },
  {
   "cell_type": "code",
   "execution_count": 23,
   "id": "40b8afae",
   "metadata": {},
   "outputs": [
    {
     "name": "stdout",
     "output_type": "stream",
     "text": [
      "5 8 4\n",
      "1\n",
      "1\n",
      "0\n",
      "0\n"
     ]
    }
   ],
   "source": [
    "A,B,C=input().split()\n",
    "A=int(A)\n",
    "B=int(B)\n",
    "C=int(C)\n",
    "print((A+B)%C)\n",
    "print(((A%C) + (B%C))%C)\n",
    "print((A*B)%C)\n",
    "print(((A%C)*(B%C))%C)"
   ]
  },
  {
   "cell_type": "markdown",
   "id": "123ad875",
   "metadata": {},
   "source": [
    "#10 곱셈"
   ]
  },
  {
   "cell_type": "code",
   "execution_count": 26,
   "id": "3fc4538a",
   "metadata": {},
   "outputs": [
    {
     "name": "stdout",
     "output_type": "stream",
     "text": [
      "472\n",
      "385\n",
      "2360\n",
      "3776\n",
      "1416\n",
      "181720\n"
     ]
    }
   ],
   "source": [
    "a=input()\n",
    "b=input()\n",
    "sub1=int(a)*int(b[2])\n",
    "sub2=int(a)*int(b[1])\n",
    "sub3=int(a)*int(b[0])\n",
    "answer=sub1+10*sub2+100*sub3\n",
    "print(sub1)\n",
    "print(sub2)\n",
    "print(sub3)\n",
    "print(answer)"
   ]
  },
  {
   "cell_type": "markdown",
   "id": "863e715e",
   "metadata": {},
   "source": [
    "#11 꼬마 정민"
   ]
  },
  {
   "cell_type": "code",
   "execution_count": 27,
   "id": "909fc2db",
   "metadata": {},
   "outputs": [
    {
     "name": "stdout",
     "output_type": "stream",
     "text": [
      "77 77 7777 \n",
      "7931\n"
     ]
    }
   ],
   "source": [
    "A,B,C=input().split()\n",
    "print(int(A)+int(B)+int(C))"
   ]
  },
  {
   "cell_type": "markdown",
   "id": "26399c20",
   "metadata": {},
   "source": [
    "#12 고양이"
   ]
  },
  {
   "cell_type": "code",
   "execution_count": 38,
   "id": "109df007",
   "metadata": {},
   "outputs": [
    {
     "name": "stdout",
     "output_type": "stream",
     "text": [
      "\\    /\\\n",
      " )  ( ')\n",
      "(  /  )\n",
      " \\(__)|\n"
     ]
    }
   ],
   "source": [
    "print('\\\\    /\\\\')   #백슬래시 출력 \\\\\n",
    "print(' )  ( \\')')   #'출력 \\''\n",
    "print('(  /  )')\n",
    "print(' \\\\(__)|')"
   ]
  },
  {
   "cell_type": "markdown",
   "id": "577174b8",
   "metadata": {},
   "source": [
    "#13 개"
   ]
  },
  {
   "cell_type": "code",
   "execution_count": 40,
   "id": "d1df982a",
   "metadata": {},
   "outputs": [
    {
     "name": "stdout",
     "output_type": "stream",
     "text": [
      "|\\_/|\n",
      "|q p|   /}\n",
      "( 0 )\"\"\"\\\n",
      "|\"^\"`    |\n",
      "||_/=\\\\__|\n"
     ]
    }
   ],
   "source": [
    "print('|\\\\_/|')\n",
    "print('|q p|   /}')\n",
    "print('( 0 )\\\"\\\"\\\"\\\\')   #\"출력 \\\"\n",
    "print('|\\\"^\\\"`    |')\n",
    "print('||_/=\\\\\\\\__|')"
   ]
  },
  {
   "cell_type": "markdown",
   "id": "656c11e9",
   "metadata": {},
   "source": [
    "## 시간복잡도\n",
    "- 실행시간 : 함수나 알고리즘 수행에 필요한 스텝 수(각 스텝의 실행시간은 상수)\n",
    "- input 사이즈인 N에 대한 식으로 표현되는데 최고차항 차수만 의미 있다! O(N)"
   ]
  },
  {
   "cell_type": "markdown",
   "id": "05c8659c",
   "metadata": {},
   "source": [
    "#1. 알고리즘 수업 - 알고리즘의 수행 시간 1"
   ]
  },
  {
   "cell_type": "code",
   "execution_count": null,
   "id": "e74ba10a",
   "metadata": {},
   "outputs": [],
   "source": [
    "MenOfPassion(A[], n) {\n",
    "    i = ⌊n / 2⌋;\n",
    "    return A[i]; # 코드1 -> 한번 수행, O(1)\n",
    "}"
   ]
  },
  {
   "cell_type": "code",
   "execution_count": 42,
   "id": "606d21a0",
   "metadata": {},
   "outputs": [
    {
     "name": "stdout",
     "output_type": "stream",
     "text": [
      "1\n",
      "1\n",
      "0\n"
     ]
    }
   ],
   "source": [
    "n=int(input())\n",
    "print(1)\n",
    "print(0)"
   ]
  },
  {
   "cell_type": "markdown",
   "id": "2aa9707e",
   "metadata": {},
   "source": [
    "#2. 알고리즘 수업 - 알고리즘의 수행 시간 2"
   ]
  },
  {
   "cell_type": "code",
   "execution_count": null,
   "id": "804d67f6",
   "metadata": {},
   "outputs": [],
   "source": [
    "MenOfPassion(A[], n) {\n",
    "    sum <- 0;\n",
    "    for i <- 1 to n\n",
    "        sum <- sum + A[i]; # 코드1 -> n번 수행, O(n)\n",
    "    return sum;\n",
    "}"
   ]
  },
  {
   "cell_type": "code",
   "execution_count": 43,
   "id": "17b3119e",
   "metadata": {},
   "outputs": [
    {
     "name": "stdout",
     "output_type": "stream",
     "text": [
      "7\n",
      "7\n",
      "1\n"
     ]
    }
   ],
   "source": [
    "n=int(input())\n",
    "print(n)\n",
    "print(1)"
   ]
  },
  {
   "cell_type": "markdown",
   "id": "1f78c4d7",
   "metadata": {},
   "source": [
    "#3. 알고리즘 수업 - 알고리즘의 수행 시간 3"
   ]
  },
  {
   "cell_type": "code",
   "execution_count": null,
   "id": "3f1773c2",
   "metadata": {},
   "outputs": [],
   "source": [
    "MenOfPassion(A[], n) {\n",
    "    sum <- 0;\n",
    "    for i <- 1 to n\n",
    "        for j <- 1 to n\n",
    "            sum <- sum + A[i] × A[j]; # 코드1 -> n^2번 수행, O(n^2)\n",
    "    return sum;\n",
    "}"
   ]
  },
  {
   "cell_type": "code",
   "execution_count": 46,
   "id": "3e21b16f",
   "metadata": {},
   "outputs": [
    {
     "name": "stdout",
     "output_type": "stream",
     "text": [
      "7\n",
      "49\n",
      "2\n"
     ]
    }
   ],
   "source": [
    "n=int(input())\n",
    "print(n**2)\n",
    "print(2)"
   ]
  },
  {
   "cell_type": "markdown",
   "id": "cbf7c487",
   "metadata": {},
   "source": [
    "#4. 알고리즘 수업 - 알고리즘의 수행 시간 4"
   ]
  },
  {
   "cell_type": "code",
   "execution_count": null,
   "id": "ddbb1315",
   "metadata": {},
   "outputs": [],
   "source": [
    "MenOfPassion(A[], n) {\n",
    "    sum <- 0;\n",
    "    for i <- 1 to n - 1\n",
    "        for j <- i + 1 to n\n",
    "            sum <- sum + A[i] × A[j]; # 코드1 -> n(n-1)/2번 수행, O((n-1)^2)\n",
    "    return sum;\n",
    "}\n",
    "\n",
    "#i=1일 때: 2~n  n-1번\n",
    "#i=2일 때: 3~n  n-2번\n",
    "\n",
    "#i=n-1일 때: n~n  1번 \n",
    "#등차수열 식 -> (n-1)(n-1+1)/2 = n(n-1)/2"
   ]
  },
  {
   "cell_type": "code",
   "execution_count": 50,
   "id": "cbee6bcf",
   "metadata": {},
   "outputs": [
    {
     "name": "stdout",
     "output_type": "stream",
     "text": [
      "7\n",
      "21\n",
      "2\n"
     ]
    }
   ],
   "source": [
    "n=int(input())\n",
    "print(int(n*(n-1)/2))\n",
    "print(2)"
   ]
  },
  {
   "cell_type": "markdown",
   "id": "c00e2c85",
   "metadata": {},
   "source": [
    "#5. 알고리즘 수업 - 알고리즘의 수행 시간 5"
   ]
  },
  {
   "cell_type": "code",
   "execution_count": null,
   "id": "cfa296e8",
   "metadata": {},
   "outputs": [],
   "source": [
    "MenOfPassion(A[], n) {\n",
    "    sum <- 0;\n",
    "    for i <- 1 to n\n",
    "        for j <- 1 to n\n",
    "            for k <- 1 to n\n",
    "                sum <- sum + A[i] × A[j] × A[k]; # 코드1 -> n^3번 반복, O(n^3)\n",
    "    return sum;\n",
    "}\n",
    "\n",
    "#i=1, j=1 : k = 1~n -> n번\n",
    "#     j=2 : k = 1~n -> n번\n",
    "\n",
    "#     j=n : k= 1~n -> n번"
   ]
  },
  {
   "cell_type": "code",
   "execution_count": 51,
   "id": "23eb2ab9",
   "metadata": {},
   "outputs": [
    {
     "name": "stdout",
     "output_type": "stream",
     "text": [
      "7\n",
      "343\n",
      "3\n"
     ]
    }
   ],
   "source": [
    "n=int(input())\n",
    "print(n**3)\n",
    "print(3)"
   ]
  },
  {
   "cell_type": "markdown",
   "id": "9757d85f",
   "metadata": {},
   "source": [
    "#6. 알고리즘 수업 - 알고리즘의 수행 시간 6"
   ]
  },
  {
   "cell_type": "code",
   "execution_count": null,
   "id": "72426ba4",
   "metadata": {},
   "outputs": [],
   "source": [
    "MenOfPassion(A[], n) {\n",
    "    sum <- 0;\n",
    "    for i <- 1 to n - 2\n",
    "        for j <- i + 1 to n - 1\n",
    "            for k <- j + 1 to n\n",
    "                sum <- sum + A[i] × A[j] × A[k]; # 코드1\n",
    "    return sum;\n",
    "}\n",
    "\n",
    "#i=1일 때: j=2~n-1 ,k=(3~n)+(4~n)+...(n ~ n)  -> (n-2)(n-2+1)/2 = (n-2)(n-1)/2\n",
    "#i=2일 때: j=3~n-1, k=(4~n)+...(n ~ n)  ->  (n-3)(n-3+1)/2 = (n-3)(n-2)/2\n",
    "\n",
    "#i=n-3일 때: j=n-2 ~ n-1 , k=(n-1~n)+(n~n) - > (n-(n-2))(n-(n-2)+1)/2 = 2*3/2 = 3\n",
    "#i=n-2일 때: j=n-1, k=n ~ n -> 1*2/2 = 1\n"
   ]
  },
  {
   "cell_type": "markdown",
   "id": "c09928ca",
   "metadata": {},
   "source": [
    "#7. 알고리즘 수업 - 점근적 표기1"
   ]
  },
  {
   "cell_type": "code",
   "execution_count": 14,
   "id": "7cc6af3d",
   "metadata": {},
   "outputs": [
    {
     "name": "stdout",
     "output_type": "stream",
     "text": [
      "7 7\n",
      "8 \n",
      "1\n",
      "0\n"
     ]
    }
   ],
   "source": [
    "a1,a0=input().split()\n",
    "a1=int(a1)\n",
    "a0=int(a0)\n",
    "c=int(input())\n",
    "n0=int(input())\n",
    "def fn(n):\n",
    "    return a1*n+a0\n",
    "if (fn(n0)<=c*n0)&(c>0):\n",
    "    print(1)\n",
    "else:\n",
    "    print(0)"
   ]
  }
 ],
 "metadata": {
  "kernelspec": {
   "display_name": "Python 3 (ipykernel)",
   "language": "python",
   "name": "python3"
  },
  "language_info": {
   "codemirror_mode": {
    "name": "ipython",
    "version": 3
   },
   "file_extension": ".py",
   "mimetype": "text/x-python",
   "name": "python",
   "nbconvert_exporter": "python",
   "pygments_lexer": "ipython3",
   "version": "3.9.7"
  }
 },
 "nbformat": 4,
 "nbformat_minor": 5
}
